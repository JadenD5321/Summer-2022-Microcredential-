{
  "nbformat": 4,
  "nbformat_minor": 0,
  "metadata": {
    "colab": {
      "name": "WorkingDrills.ipynb",
      "provenance": [],
      "authorship_tag": "ABX9TyPl3wsph3Z/sZZqJGu+t2QH",
      "include_colab_link": true
    },
    "kernelspec": {
      "name": "python3",
      "display_name": "Python 3"
    },
    "language_info": {
      "name": "python"
    }
  },
  "cells": [
    {
      "cell_type": "markdown",
      "metadata": {
        "id": "view-in-github",
        "colab_type": "text"
      },
      "source": [
        "<a href=\"https://colab.research.google.com/github/JadenD5321/Summer-2022-Microcredential-/blob/main/WorkingDrills.ipynb\" target=\"_parent\"><img src=\"https://colab.research.google.com/assets/colab-badge.svg\" alt=\"Open In Colab\"/></a>"
      ]
    },
    {
      "cell_type": "code",
      "execution_count": 2,
      "metadata": {
        "id": "jrWxaCwQEip3"
      },
      "outputs": [],
      "source": [
        "def special_numbers(n):\n",
        "  \"\"\"\n",
        "  description: This function would give us numbers that are divisible by 5 form a list of numbers  \n",
        "  Created by: Jack, James, and Micheal\n",
        "  Input: List of numbers \n",
        "  Output: Numbers that are divisible by 5.\n",
        "  \"\"\" \n",
        "  num = []\n",
        "  for i in n:\n",
        "    if i % 5 == 0:\n",
        "      num.append(i)\n",
        "  return(num)"
      ]
    },
    {
      "cell_type": "code",
      "source": [
        "help (special_numbers)"
      ],
      "metadata": {
        "colab": {
          "base_uri": "https://localhost:8080/"
        },
        "id": "JVqA-8sHIHl3",
        "outputId": "cadb28fa-5064-4811-b36f-11759ed6d879"
      },
      "execution_count": 3,
      "outputs": [
        {
          "output_type": "stream",
          "name": "stdout",
          "text": [
            "Help on function special_numbers in module __main__:\n",
            "\n",
            "special_numbers(n)\n",
            "    description: This function would give us numbers that are divisible by 5 form a list of numbers  \n",
            "    Created by: Jack, James, and Micheal\n",
            "    Input: List of numbers \n",
            "    Output: Numbers that are divisible by 5.\n",
            "\n"
          ]
        }
      ]
    },
    {
      "cell_type": "code",
      "source": [
        "special_numbers([25,50,17,29,46,55,70,11015])"
      ],
      "metadata": {
        "colab": {
          "base_uri": "https://localhost:8080/"
        },
        "id": "ff_2U2ZtIQlD",
        "outputId": "bafd377d-bb93-42c6-ae18-acd90dcda0b7"
      },
      "execution_count": 4,
      "outputs": [
        {
          "output_type": "execute_result",
          "data": {
            "text/plain": [
              "[25, 50, 55, 70, 11015]"
            ]
          },
          "metadata": {},
          "execution_count": 4
        }
      ]
    },
    {
      "cell_type": "markdown",
      "source": [
        "## 2) Check if the first and the last number of a list is the same"
      ],
      "metadata": {
        "id": "Fwkfz49UIV4R"
      }
    },
    {
      "cell_type": "code",
      "source": [
        "def first_last_same(numberList):\n",
        "  print(\"Given List:\", numberList)\n",
        "\n",
        "  first_num = numberList[0]\n",
        "  last_num = numberList[-1]\n",
        "\n",
        "  if first_num == last_num:\n",
        "    print(\"True\") \n",
        "  else: \n",
        "    print(\"False\")\n",
        "\n",
        "numbers_x = [10,20,30,40,10]\n",
        "print(\"Result is\", first_last_same(numbers_x))\n"
      ],
      "metadata": {
        "colab": {
          "base_uri": "https://localhost:8080/"
        },
        "id": "BlxytiH3ISwO",
        "outputId": "3d69240a-2d1a-44ec-91da-97553dc6019a"
      },
      "execution_count": 5,
      "outputs": [
        {
          "output_type": "stream",
          "name": "stdout",
          "text": [
            "Given List: [10, 20, 30, 40, 10]\n",
            "True\n",
            "Result is None\n"
          ]
        }
      ]
    },
    {
      "cell_type": "code",
      "source": [
        "numbers_y = [75, 65, 35, 75, 30]\n",
        "print(\"Result is\",first_last_same(numbers_y))"
      ],
      "metadata": {
        "colab": {
          "base_uri": "https://localhost:8080/"
        },
        "id": "grYV60WSIeyk",
        "outputId": "81b1a29e-aeab-43b3-e6f0-8e282c7f9a6d"
      },
      "execution_count": 6,
      "outputs": [
        {
          "output_type": "stream",
          "name": "stdout",
          "text": [
            "Given List: [75, 65, 35, 75, 30]\n",
            "False\n",
            "Result is None\n"
          ]
        }
      ]
    },
    {
      "cell_type": "markdown",
      "source": [
        "## 4) Input an integer (n) and computes the value of n + nn + nnn"
      ],
      "metadata": {
        "id": "EsASC-3UIj6P"
      }
    },
    {
      "cell_type": "code",
      "source": [
        "a = int(input(\"Input an integer : \"))\n",
        "n1 = int(\"%s\" % a)\n",
        "n2 = int(\"%s%s\" % (a, a))\n",
        "n3 = int(\"%s%s%s\" % (a,a,a))\n",
        "print(n1+n2+n3)"
      ],
      "metadata": {
        "id": "y-oHmmv-Ihu9"
      },
      "execution_count": null,
      "outputs": []
    }
  ]
}