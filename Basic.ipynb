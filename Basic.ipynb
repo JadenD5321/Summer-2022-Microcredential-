{
  "nbformat": 4,
  "nbformat_minor": 0,
  "metadata": {
    "colab": {
      "name": " Basic.ipynb",
      "provenance": [],
      "collapsed_sections": [],
      "authorship_tag": "ABX9TyM0gpsfPSGSx4JPDFQif3hM",
      "include_colab_link": true
    },
    "kernelspec": {
      "name": "python3",
      "display_name": "Python 3"
    },
    "language_info": {
      "name": "python"
    }
  },
  "cells": [
    {
      "cell_type": "markdown",
      "metadata": {
        "id": "view-in-github",
        "colab_type": "text"
      },
      "source": [
        "<a href=\"https://colab.research.google.com/github/JadenD5321/Summer-2022-Microcredential-/blob/main/Basic.ipynb\" target=\"_parent\"><img src=\"https://colab.research.google.com/assets/colab-badge.svg\" alt=\"Open In Colab\"/></a>"
      ]
    },
    {
      "cell_type": "code",
      "source": [
        "# always name your variable that has to do with a data that it holds\n",
        "# never start a variable with a number\n",
        "car =  'Volvo'\n",
        "\n",
        "type(car)\n",
        "int\n",
        "_car= 2.4 \n",
        "type(_car)\n",
        "float # Decimal points \n",
        "\n",
        "car2='Audi'\n",
        "\n",
        "num1=23\n",
        "num2=45\n",
        "num3= 8.9\n",
        "\n",
        "\n",
        " # The rules to define the variables \n",
        "\n",
        "\n",
        " \n",
        " #1) Must start with a letter or_ Underscore\n",
        " #2) Consists of letters, Numbers and Underscores, but it will not start with a number\n",
        "#3) Variables names are case sensitive\n",
        "\n",
        "\n",
        "# Boolean types\n",
        "## Bascially deterimines the difference between true and false based on the information given \n",
        "\n",
        "#< \n",
        "#>\n",
        "\n",
        "# Examples of comparision operators \n",
        "\n",
        "10<20 \n",
        "True\n",
        "\n",
        "15<14 \n",
        "False\n",
        "\n",
        "12>=10 \n",
        "True \n",
        "\n",
        "17<=20 \n",
        "True \n",
        "\n",
        "25>=25 \n",
        "True\n",
        "\n",
        " #Logical operators\n",
        "1\n",
        "1\n",
        "1\n",
        "1\n",
        "1\n",
        "1\n",
        "1\n",
        "1\n",
        "1\n",
        "\n",
        "\n"
      ],
      "metadata": {
        "colab": {
          "base_uri": "https://localhost:8080/"
        },
        "id": "Axc5uBVJtjkX",
        "outputId": "f1deca44-0adb-4c18-df8e-2e6462fe8bac"
      },
      "execution_count": 35,
      "outputs": [
        {
          "output_type": "execute_result",
          "data": {
            "text/plain": [
              "1"
            ]
          },
          "metadata": {},
          "execution_count": 35
        }
      ]
    },
    {
      "cell_type": "code",
      "source": [
        "#Logical operators= order of expressions \n",
        "\n",
        "# AND Operator \n",
        "3>2>1 \n",
        "false\n",
        "\n",
        "3>2 and 2<1 \n",
        "false \n",
        "\n",
        "\n",
        "# Or Operator \n",
        "3>2  or 2<1\n",
        "\n",
        "True\n",
        "\n",
        "3<2  or 2<1 \n",
        "\n",
        "false\n",
        "\n",
        "\n",
        "#Not Operator\n",
        "5>3\n",
        "true\n",
        "not(5<3)\n",
        "\n",
        "\n",
        "\n",
        "\n",
        "True= #indeed 3 is greater than the other numbers.\n",
        "# Determining the importance of truth tables in data analytics\n",
        "# And condition is true when both conditions are true statements \n",
        "#or condition  is true when at least one of the conditions are true \n",
        "3>2<1\n",
        "# 3 is greater than 2.2 is not less than 1. \n",
        "\n",
        "\n",
        "import numpy as np \n",
        "import pandas as pandas\n",
        "import matplotlib as plt"
      ],
      "metadata": {
        "colab": {
          "base_uri": "https://localhost:8080/",
          "height": 130
        },
        "id": "WNEDJ9sh8NWy",
        "outputId": "581c847e-dc4d-47e3-9541-d661661188c2"
      },
      "execution_count": 39,
      "outputs": [
        {
          "output_type": "error",
          "ename": "SyntaxError",
          "evalue": "ignored",
          "traceback": [
            "\u001b[0;36m  File \u001b[0;32m\"<ipython-input-39-ab080edd2e39>\"\u001b[0;36m, line \u001b[0;32m4\u001b[0m\n\u001b[0;31m    True= # indeed 3 is greater than the other numbers\u001b[0m\n\u001b[0m                                                       ^\u001b[0m\n\u001b[0;31mSyntaxError\u001b[0m\u001b[0;31m:\u001b[0m invalid syntax\n"
          ]
        }
      ]
    },
    {
      "cell_type": "code",
      "source": [
        "Genghis Rules of Programming \n",
        "1) Read the documentation \n",
        "2) Practice \n",
        "3) Stackoverflow\n",
        "4) Genghis is NEVER WRONG! \n",
        "5) There is no spoon!- WHAT BOX-\n",
        "\n",
        "\n",
        "\n"
      ],
      "metadata": {
        "id": "FtLqLSgaqrA8"
      },
      "execution_count": null,
      "outputs": []
    },
    {
      "cell_type": "code",
      "execution_count": 8,
      "metadata": {
        "colab": {
          "base_uri": "https://localhost:8080/"
        },
        "id": "bjcNj7guaBqb",
        "outputId": "71c6a978-ad27-49db-e2b4-c13908cfbd20"
      },
      "outputs": [
        {
          "output_type": "stream",
          "name": "stdout",
          "text": [
            "Hi There\n"
          ]
        }
      ],
      "source": [
        "#Basic Notebook\n",
        "\n",
        "print('Hi There')"
      ]
    },
    {
      "cell_type": "code",
      "source": [
        "import this"
      ],
      "metadata": {
        "id": "xyuydLTya31r"
      },
      "execution_count": 43,
      "outputs": []
    },
    {
      "cell_type": "markdown",
      "source": [
        "## 1. Read the documentation \n",
        "##2. Practice \n",
        "##3. Stackoverflow \n",
        "##4. Genghis is Never Wrong \n",
        "## There is no spoon !\n"
      ],
      "metadata": {
        "id": "0a77euZbbPPk"
      }
    },
    {
      "cell_type": "code",
      "source": [
        "# this is a comment\n",
        "print('something')"
      ],
      "metadata": {
        "colab": {
          "base_uri": "https://localhost:8080/"
        },
        "id": "IUYvDw54rhHQ",
        "outputId": "a3f00bc9-e553-4457-d177-fd889b1f6404"
      },
      "execution_count": 48,
      "outputs": [
        {
          "output_type": "stream",
          "name": "stdout",
          "text": [
            "something\n"
          ]
        }
      ]
    },
    {
      "cell_type": "markdown",
      "source": [
        "Variables \n",
        "\n",
        "1 'This is a string' ## strings tend to have single quotes.\n",
        "1= type(string) # inside will be an argument. It automatically tells one what they need to implement inside an actual function. \n",
        "1\n",
        "1\n",
        "1\n",
        "1\n",
        "1\n",
        "1\n",
        "1\n",
        "1\n",
        "1\n",
        "1"
      ],
      "metadata": {
        "id": "qLSRyfV9saZG"
      }
    },
    {
      "cell_type": "markdown",
      "source": [
        "\"\"\"\n",
        "this \n",
        "is \n",
        "a \n",
        "multi \n",
        "line \n",
        "comment  \n",
        "\"\"\"\n",
        "\"\\This \\nis \\na\\multi\\nline\\ncomment\n"
      ],
      "metadata": {
        "id": "0wxf8g4JqwFy"
      }
    },
    {
      "cell_type": "code",
      "source": [
        ""
      ],
      "metadata": {
        "id": "XKvaAZMK8Lj2"
      },
      "execution_count": null,
      "outputs": []
    },
    {
      "cell_type": "code",
      "source": [
        ""
      ],
      "metadata": {
        "id": "low-cixI8MVQ"
      },
      "execution_count": null,
      "outputs": []
    }
  ]
}