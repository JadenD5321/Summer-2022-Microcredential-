{
  "nbformat": 4,
  "nbformat_minor": 0,
  "metadata": {
    "colab": {
      "name": "BasicsDrei.ipynb",
      "provenance": [],
      "authorship_tag": "ABX9TyMjmFVxcU4F92q3w4Y8/scS",
      "include_colab_link": true
    },
    "kernelspec": {
      "name": "python3",
      "display_name": "Python 3"
    },
    "language_info": {
      "name": "python"
    }
  },
  "cells": [
    {
      "cell_type": "markdown",
      "metadata": {
        "id": "view-in-github",
        "colab_type": "text"
      },
      "source": [
        "<a href=\"https://colab.research.google.com/github/JadenD5321/Summer-2022-Microcredential-/blob/main/BasicsDrei.ipynb\" target=\"_parent\"><img src=\"https://colab.research.google.com/assets/colab-badge.svg\" alt=\"Open In Colab\"/></a>"
      ]
    },
    {
      "cell_type": "markdown",
      "source": [
        "##Introduction to Python "
      ],
      "metadata": {
        "id": "l3T0Eh55HfH7"
      }
    },
    {
      "cell_type": "markdown",
      "source": [
        "##Conditionals & Loops!!"
      ],
      "metadata": {
        "id": "jbICfNR6HkuQ"
      }
    },
    {
      "cell_type": "markdown",
      "source": [
        "##Conditionals& Loops\n",
        "\n"
      ],
      "metadata": {
        "id": "d21JznYtHpOq"
      }
    },
    {
      "cell_type": "markdown",
      "source": [
        "## IF...ELIF...Else.Statements "
      ],
      "metadata": {
        "id": "obUybqPnHwWc"
      }
    },
    {
      "cell_type": "code",
      "source": [
        "\"\"\"\n",
        "if( condition):\n",
        "  do something \n",
        "\"\"\""
      ],
      "metadata": {
        "colab": {
          "base_uri": "https://localhost:8080/",
          "height": 37
        },
        "id": "aQNRsE5pHjnr",
        "outputId": "5b58dc34-8feb-48b6-8ceb-ae014ead152d"
      },
      "execution_count": null,
      "outputs": [
        {
          "output_type": "execute_result",
          "data": {
            "text/plain": [
              "'\\nif( condition):\\n  do something \\n'"
            ],
            "application/vnd.google.colaboratory.intrinsic+json": {
              "type": "string"
            }
          },
          "metadata": {},
          "execution_count": 1
        }
      ]
    },
    {
      "cell_type": "code",
      "source": [
        "if 3>2:\n",
        "  print(\"Right\")"
      ],
      "metadata": {
        "colab": {
          "base_uri": "https://localhost:8080/"
        },
        "id": "o0RyiEoqIAId",
        "outputId": "99ae0ba1-c2e4-4251-c244-17b25eca30e7"
      },
      "execution_count": null,
      "outputs": [
        {
          "output_type": "stream",
          "name": "stdout",
          "text": [
            "Right\n"
          ]
        }
      ]
    },
    {
      "cell_type": "code",
      "source": [
        "if 4>7 :\n",
        " print(\"Right\")\n",
        "else: \n",
        "  print(\"Wrong\")"
      ],
      "metadata": {
        "colab": {
          "base_uri": "https://localhost:8080/"
        },
        "id": "BLxIkZavIKDG",
        "outputId": "552d4a2e-f532-4f0d-d97d-2d406279a1d3"
      },
      "execution_count": null,
      "outputs": [
        {
          "output_type": "stream",
          "name": "stdout",
          "text": [
            "Wrong\n"
          ]
        }
      ]
    },
    {
      "cell_type": "code",
      "source": [
        "a=3\n",
        "b=5\n",
        "\n",
        "if a>b: \n",
        "  print(\"Yes it is right !!!\")\n",
        "else:\n",
        "  print(\"Try again !!!\")"
      ],
      "metadata": {
        "colab": {
          "base_uri": "https://localhost:8080/"
        },
        "id": "68dgTPeFIZT-",
        "outputId": "13030fc2-3f4b-4f86-a9fe-c2fe6f32af5d"
      },
      "execution_count": null,
      "outputs": [
        {
          "output_type": "stream",
          "name": "stdout",
          "text": [
            "Try again !!!\n"
          ]
        }
      ]
    },
    {
      "cell_type": "code",
      "source": [
        "\n",
        "##ADD some more notes later\n",
        "drink=\"Tea\"\n",
        "\n",
        "if drink ==\"Coffee\":\n",
        "    print(\"Humanity runs on Coffee\")\n",
        "else: \n",
        "    print(\"Where there is a Tea, There is a hope !!!\")"
      ],
      "metadata": {
        "colab": {
          "base_uri": "https://localhost:8080/"
        },
        "id": "E7DHuwB2H6GH",
        "outputId": "862c2c82-ba43-4883-c88e-94c26d0db55a"
      },
      "execution_count": null,
      "outputs": [
        {
          "output_type": "stream",
          "name": "stdout",
          "text": [
            "Where there is a Tea, There is a hope !!!\n"
          ]
        }
      ]
    },
    {
      "cell_type": "markdown",
      "source": [
        "##Loops!!\n",
        "##For..Loop"
      ],
      "metadata": {
        "id": "xG0kPMh9L7gh"
      }
    },
    {
      "cell_type": "code",
      "source": [
        "\"\"\"\n",
        "for iterator in array: \n",
        "  do something \n",
        "\"\"\"\n",
        "# Multi-line comment"
      ],
      "metadata": {
        "colab": {
          "base_uri": "https://localhost:8080/",
          "height": 37
        },
        "id": "zvaoxj_4JBwp",
        "outputId": "10dfb1ec-b774-430b-f75a-2af0ee40ba05"
      },
      "execution_count": 14,
      "outputs": [
        {
          "output_type": "execute_result",
          "data": {
            "text/plain": [
              "'\\nfor iterator in array: \\n  do something \\n'"
            ],
            "application/vnd.google.colaboratory.intrinsic+json": {
              "type": "string"
            }
          },
          "metadata": {},
          "execution_count": 14
        }
      ]
    },
    {
      "cell_type": "code",
      "source": [
        "my_list = [1,2,3,4,5,6,7,8,9,10] # numbers stored in the list"
      ],
      "metadata": {
        "id": "VK25qzjtL6Zz"
      },
      "execution_count": 15,
      "outputs": []
    },
    {
      "cell_type": "code",
      "source": [
        "# FOR SOMETHING IN SOMETHING (Comment)\n",
        "for num in my_list:  # we use this to basically place things in the list generally\n",
        "  print(num)"
      ],
      "metadata": {
        "colab": {
          "base_uri": "https://localhost:8080/"
        },
        "id": "5Ol0SQEQMIvX",
        "outputId": "d7a3a76e-eac8-4ba4-a742-dc533ce8aeb9"
      },
      "execution_count": 17,
      "outputs": [
        {
          "output_type": "stream",
          "name": "stdout",
          "text": [
            "1\n",
            "2\n",
            "3\n",
            "4\n",
            "5\n",
            "6\n",
            "7\n",
            "8\n",
            "9\n",
            "10\n"
          ]
        }
      ]
    },
    {
      "cell_type": "code",
      "source": [
        "# i - iterator\n",
        "# if the number (i) when you divide by 2 gives me a remainder of 0\n",
        "# I want to print that number\n",
        "for i in my_list:\n",
        "  if i % 2 == 0:\n",
        "    print(i)"
      ],
      "metadata": {
        "colab": {
          "base_uri": "https://localhost:8080/"
        },
        "id": "0veKA5lQMQGj",
        "outputId": "d92126ad-6f9d-42eb-9497-2593cde7c17d"
      },
      "execution_count": 18,
      "outputs": [
        {
          "output_type": "stream",
          "name": "stdout",
          "text": [
            "2\n",
            "4\n",
            "6\n",
            "8\n",
            "10\n"
          ]
        }
      ]
    },
    {
      "cell_type": "code",
      "source": [
        "for num in my_list:\n",
        "  if num% 2 !=0:\n",
        "    print(num)"
      ],
      "metadata": {
        "colab": {
          "base_uri": "https://localhost:8080/"
        },
        "id": "HxGudrBoNHgQ",
        "outputId": "917ba84f-b42f-4075-a211-4fe8357d351d"
      },
      "execution_count": null,
      "outputs": [
        {
          "output_type": "stream",
          "name": "stdout",
          "text": [
            "1\n",
            "3\n",
            "5\n",
            "7\n",
            "9\n"
          ]
        }
      ]
    },
    {
      "cell_type": "code",
      "source": [
        "\n",
        "## Typical coding interview question \n",
        "my_list=[1,2,3,4,5,45,6,34,980,3756,26]\n",
        "list_sum=0 \n",
        "for num in my_list: \n",
        "    list_sum=list_sum+num\n",
        "print(list_sum)\n",
        "\n"
      ],
      "metadata": {
        "colab": {
          "base_uri": "https://localhost:8080/"
        },
        "id": "31_RY8YYNPJl",
        "outputId": "16751d6e-78a7-47c8-bfe5-2b3628b745ad"
      },
      "execution_count": 21,
      "outputs": [
        {
          "output_type": "stream",
          "name": "stdout",
          "text": [
            "4862\n"
          ]
        }
      ]
    },
    {
      "cell_type": "code",
      "source": [
        "## Defining a regular loop\n",
        "\n",
        "my_string=\"Hello World\"\n",
        "for x in my_string: \n",
        "    print(x)"
      ],
      "metadata": {
        "colab": {
          "base_uri": "https://localhost:8080/"
        },
        "id": "d8lWiKSjN7dx",
        "outputId": "47c30188-7637-48d1-b55f-1f94a1772fc4"
      },
      "execution_count": 24,
      "outputs": [
        {
          "output_type": "stream",
          "name": "stdout",
          "text": [
            "H\n",
            "e\n",
            "l\n",
            "l\n",
            "o\n",
            " \n",
            "W\n",
            "o\n",
            "r\n",
            "l\n",
            "d\n"
          ]
        }
      ]
    },
    {
      "cell_type": "code",
      "source": [
        "for tup in my_list: \n",
        "  print(tup) \n",
        "\n",
        "(1,2)\n",
        "(3,4)\n",
        "(5,6)\n",
        "(7,8)"
      ],
      "metadata": {
        "colab": {
          "base_uri": "https://localhost:8080/"
        },
        "id": "a7kMc1eXOTvr",
        "outputId": "46d9b5ad-c162-425e-c2bf-510949dd23a3"
      },
      "execution_count": 23,
      "outputs": [
        {
          "output_type": "stream",
          "name": "stdout",
          "text": [
            "1\n",
            "2\n",
            "3\n",
            "4\n",
            "5\n",
            "45\n",
            "6\n",
            "34\n",
            "980\n",
            "3756\n",
            "26\n"
          ]
        },
        {
          "output_type": "execute_result",
          "data": {
            "text/plain": [
              "(7, 8)"
            ]
          },
          "metadata": {},
          "execution_count": 23
        }
      ]
    },
    {
      "cell_type": "code",
      "source": [
        "# Tuple means to store multiple items in a single variable\n",
        "my_list = [(1,2), (3,4), (5,6), (7,8)]\n",
        "len(my_list)"
      ],
      "metadata": {
        "colab": {
          "base_uri": "https://localhost:8080/"
        },
        "id": "9OAhETn-rN0e",
        "outputId": "e5ab7c50-a0ff-4172-9544-233e303af0c5"
      },
      "execution_count": 31,
      "outputs": [
        {
          "output_type": "execute_result",
          "data": {
            "text/plain": [
              "4"
            ]
          },
          "metadata": {},
          "execution_count": 31
        }
      ]
    },
    {
      "cell_type": "code",
      "source": [
        ""
      ],
      "metadata": {
        "id": "ptsRpi19r2qW"
      },
      "execution_count": null,
      "outputs": []
    },
    {
      "cell_type": "code",
      "source": [
        "for tup in my_list:\n",
        "  print(tup)"
      ],
      "metadata": {
        "colab": {
          "base_uri": "https://localhost:8080/"
        },
        "id": "ZggyjtgfrWhP",
        "outputId": "f02564e1-f3a5-4131-cec2-f0beb48687f7"
      },
      "execution_count": 30,
      "outputs": [
        {
          "output_type": "stream",
          "name": "stdout",
          "text": [
            "(1, 2)\n",
            "(3, 4)\n",
            "(5, 6)\n",
            "(7, 8)\n"
          ]
        }
      ]
    },
    {
      "cell_type": "code",
      "source": [
        "for a,b in my_list:\n",
        "  print(a)"
      ],
      "metadata": {
        "colab": {
          "base_uri": "https://localhost:8080/"
        },
        "id": "f8Ml7aocOnpt",
        "outputId": "e5b565f9-2b2f-4c06-b51d-62ac379f6635"
      },
      "execution_count": 29,
      "outputs": [
        {
          "output_type": "stream",
          "name": "stdout",
          "text": [
            "1\n",
            "3\n",
            "5\n",
            "7\n"
          ]
        }
      ]
    },
    {
      "cell_type": "code",
      "source": [
        "for a,b in my_list:\n",
        "  print(a,b)"
      ],
      "metadata": {
        "colab": {
          "base_uri": "https://localhost:8080/"
        },
        "id": "tixetni-q8L9",
        "outputId": "848ec0a0-acaa-408c-d1d6-d9467d8eabfe"
      },
      "execution_count": 32,
      "outputs": [
        {
          "output_type": "stream",
          "name": "stdout",
          "text": [
            "1 2\n",
            "3 4\n",
            "5 6\n",
            "7 8\n"
          ]
        }
      ]
    },
    {
      "cell_type": "code",
      "source": [
        "for a,b in my_list: \n",
        "  print(a)"
      ],
      "metadata": {
        "colab": {
          "base_uri": "https://localhost:8080/"
        },
        "id": "1mZ9_NSSs1zj",
        "outputId": "c5982fb2-3e65-487b-b261-f8c7949d5aa2"
      },
      "execution_count": 34,
      "outputs": [
        {
          "output_type": "stream",
          "name": "stdout",
          "text": [
            "1\n",
            "3\n",
            "5\n",
            "7\n"
          ]
        }
      ]
    },
    {
      "cell_type": "code",
      "source": [
        "my_list = [(1,2,3), (4,5,6), (7,8,9)] # bascially you repeat a,b, and C three times depending on how you will gather information within a list"
      ],
      "metadata": {
        "id": "Xe9lVC9utAfL"
      },
      "execution_count": 35,
      "outputs": []
    },
    {
      "cell_type": "code",
      "source": [
        "for a,b,c in my_list: \n",
        "    print(a,c)"
      ],
      "metadata": {
        "colab": {
          "base_uri": "https://localhost:8080/"
        },
        "id": "NMcQxhcetD1v",
        "outputId": "b19ab0a8-c5f2-4f51-b951-a80b4aa0d6bb"
      },
      "execution_count": 37,
      "outputs": [
        {
          "output_type": "stream",
          "name": "stdout",
          "text": [
            "1 3\n",
            "4 6\n",
            "7 9\n"
          ]
        }
      ]
    },
    {
      "cell_type": "code",
      "source": [
        "my_dict = {\"k1\":1, \"k2\":2, \"k3\":3} # the K values represent A  while the numbers represent the b values that you will storing into the printer. "
      ],
      "metadata": {
        "id": "sOpoD06qtgdv"
      },
      "execution_count": 38,
      "outputs": []
    },
    {
      "cell_type": "code",
      "source": [
        "my_dict={\"k1\":1,\"k2\":2,\"k3\":3}"
      ],
      "metadata": {
        "id": "38CRSrySO4Xa"
      },
      "execution_count": 40,
      "outputs": []
    },
    {
      "cell_type": "code",
      "source": [
        "for i in my_dict:\n",
        "    print(i)"
      ],
      "metadata": {
        "colab": {
          "base_uri": "https://localhost:8080/"
        },
        "id": "BT1u1oKVt2Uk",
        "outputId": "312c8f3f-93cf-453b-d746-7bd316d091d2"
      },
      "execution_count": 42,
      "outputs": [
        {
          "output_type": "stream",
          "name": "stdout",
          "text": [
            "k1\n",
            "k2\n",
            "k3\n"
          ]
        }
      ]
    },
    {
      "cell_type": "code",
      "source": [
        "for i in my_dict.items():\n",
        "    print(i)\n"
      ],
      "metadata": {
        "colab": {
          "base_uri": "https://localhost:8080/"
        },
        "id": "pQA7Y__-t9rB",
        "outputId": "578a8201-4352-41ba-d1c0-be2b635e494a"
      },
      "execution_count": 46,
      "outputs": [
        {
          "output_type": "stream",
          "name": "stdout",
          "text": [
            "('k1', 1)\n",
            "('k2', 2)\n",
            "('k3', 3)\n"
          ]
        }
      ]
    },
    {
      "cell_type": "code",
      "source": [
        "for( a,b) in my_dict.items(): \n",
        "  print(b)"
      ],
      "metadata": {
        "colab": {
          "base_uri": "https://localhost:8080/"
        },
        "id": "_Z1yaKkKuPPp",
        "outputId": "84ecee88-2c61-4b00-ef6c-f0ce14a636da"
      },
      "execution_count": 49,
      "outputs": [
        {
          "output_type": "stream",
          "name": "stdout",
          "text": [
            "1\n",
            "2\n",
            "3\n"
          ]
        }
      ]
    },
    {
      "cell_type": "code",
      "source": [
        "# How to define a for loop\n",
        "# for loop with, \n",
        "# list\n",
        "# String\n",
        "# Tuple\n",
        "# Dictonary"
      ],
      "metadata": {
        "id": "GDCsnh0EPvT9"
      },
      "execution_count": 50,
      "outputs": []
    },
    {
      "cell_type": "markdown",
      "source": [
        "## While Loops "
      ],
      "metadata": {
        "id": "osMvRf7buoK_"
      }
    },
    {
      "cell_type": "code",
      "source": [
        "# As long as i is less than 5, print the answer\n",
        "i = 0\n",
        "\n",
        "while i< 5:\n",
        "  print(i)\n",
        "  i = i + 1"
      ],
      "metadata": {
        "colab": {
          "base_uri": "https://localhost:8080/"
        },
        "id": "zZWzkXwkumxz",
        "outputId": "fe7020fe-3a8b-49ac-c6c9-e0a0ff002f22"
      },
      "execution_count": 60,
      "outputs": [
        {
          "output_type": "stream",
          "name": "stdout",
          "text": [
            "0\n",
            "1\n",
            "2\n",
            "3\n",
            "4\n"
          ]
        }
      ]
    },
    {
      "cell_type": "code",
      "source": [
        "i = 0\n",
        "\n",
        "while i < 5:\n",
        "  print(i)\n",
        "  i = i + 1\n",
        "else: \n",
        "  print(\"i is not less than 5\")"
      ],
      "metadata": {
        "colab": {
          "base_uri": "https://localhost:8080/"
        },
        "id": "tkRo7rwru3xk",
        "outputId": "f357291d-0d20-4b98-dcdf-d4c9e7d16bd6"
      },
      "execution_count": 62,
      "outputs": [
        {
          "output_type": "stream",
          "name": "stdout",
          "text": [
            "0\n",
            "1\n",
            "2\n",
            "3\n",
            "4\n",
            "i is not less than 5\n"
          ]
        }
      ]
    },
    {
      "cell_type": "markdown",
      "source": [
        "## Pass, Break, and Continue"
      ],
      "metadata": {
        "id": "L2MhUjAnvb_X"
      }
    },
    {
      "cell_type": "code",
      "source": [
        "i = [1,2,3,4,5]\n",
        "\n",
        "for items in i:\n",
        "  # comment\n",
        "    pass\n",
        "print(\"I will work after !!!\")"
      ],
      "metadata": {
        "colab": {
          "base_uri": "https://localhost:8080/"
        },
        "id": "dDs9YvVWvd5A",
        "outputId": "7c8b6447-81af-4473-ee0a-45801ab7cb66"
      },
      "execution_count": 63,
      "outputs": [
        {
          "output_type": "stream",
          "name": "stdout",
          "text": [
            "I will work after !!!\n"
          ]
        }
      ]
    },
    {
      "cell_type": "code",
      "source": [
        "my_string = \"Hello world\"\n",
        "\n",
        "for letters in my_string:\n",
        "  if letters == \"r\": # Basically you break a function before reaching the actual letter of a word \n",
        "    break\n",
        "  print(letters)"
      ],
      "metadata": {
        "colab": {
          "base_uri": "https://localhost:8080/"
        },
        "id": "rPB9rOkVviV4",
        "outputId": "d0815318-eb39-4dee-d8f0-4a5a881fd79f"
      },
      "execution_count": 69,
      "outputs": [
        {
          "output_type": "stream",
          "name": "stdout",
          "text": [
            "H\n",
            "e\n",
            "l\n",
            "l\n",
            "o\n",
            " \n",
            "w\n",
            "o\n"
          ]
        }
      ]
    },
    {
      "cell_type": "code",
      "source": [
        "my_string = \"Hello world\"\n",
        "\n",
        "for letters in my_string:\n",
        "  if letters == \"o\" # bascially the letter 0 is within the scope then you can skip it and bascially continue onwards \n",
        "    continue\n",
        "    \n",
        "  print(letters)"
      ],
      "metadata": {
        "colab": {
          "base_uri": "https://localhost:8080/"
        },
        "id": "OVbLHRTZvZff",
        "outputId": "63d9b2fb-a8c6-4be4-de67-33e048fc5fbf"
      },
      "execution_count": 70,
      "outputs": [
        {
          "output_type": "stream",
          "name": "stdout",
          "text": [
            "H\n",
            "e\n",
            "l\n",
            "l\n",
            " \n",
            "w\n",
            "r\n",
            "l\n",
            "d\n"
          ]
        }
      ]
    },
    {
      "cell_type": "code",
      "source": [
        "i = 0\n",
        "while i < 5:\n",
        "  if i == 3:\n",
        "    break\n",
        "  print(i)\n",
        "  i = i + 1"
      ],
      "metadata": {
        "colab": {
          "base_uri": "https://localhost:8080/"
        },
        "id": "mWTY10PK4kEf",
        "outputId": "8d0d4c2c-b585-4802-b56c-611ae520172e"
      },
      "execution_count": 71,
      "outputs": [
        {
          "output_type": "stream",
          "name": "stdout",
          "text": [
            "0\n",
            "1\n",
            "2\n"
          ]
        }
      ]
    },
    {
      "cell_type": "markdown",
      "source": [
        "##Most used built- in functions in Python"
      ],
      "metadata": {
        "id": "Sg8dlx3P4se6"
      }
    },
    {
      "cell_type": "code",
      "source": [
        "for num in range(10):\n",
        "  print(num)"
      ],
      "metadata": {
        "colab": {
          "base_uri": "https://localhost:8080/"
        },
        "id": "bDdEtDoW4pco",
        "outputId": "f71ee104-d372-4630-f446-c7ed52f8e60f"
      },
      "execution_count": 72,
      "outputs": [
        {
          "output_type": "stream",
          "name": "stdout",
          "text": [
            "0\n",
            "1\n",
            "2\n",
            "3\n",
            "4\n",
            "5\n",
            "6\n",
            "7\n",
            "8\n",
            "9\n"
          ]
        }
      ]
    },
    {
      "cell_type": "code",
      "source": [
        "for num in range(0,11,2):\n",
        "  print(num)"
      ],
      "metadata": {
        "colab": {
          "base_uri": "https://localhost:8080/"
        },
        "id": "gzRxODEd4wsQ",
        "outputId": "77510d3e-7c35-4d28-9cb7-fcf2891dddeb"
      },
      "execution_count": 73,
      "outputs": [
        {
          "output_type": "stream",
          "name": "stdout",
          "text": [
            "0\n",
            "2\n",
            "4\n",
            "6\n",
            "8\n",
            "10\n"
          ]
        }
      ]
    },
    {
      "cell_type": "code",
      "source": [
        "my_list = [1,2,3,4,5,6,7,8,9,10]\n",
        "range(10)\n",
        "list(range(10))\n",
        "list(range(1,11))"
      ],
      "metadata": {
        "colab": {
          "base_uri": "https://localhost:8080/"
        },
        "id": "55lK6nv75tc1",
        "outputId": "0e997f6a-3bbb-42c4-deb9-cc8ddd10777d"
      },
      "execution_count": 80,
      "outputs": [
        {
          "output_type": "execute_result",
          "data": {
            "text/plain": [
              "[1, 2, 3, 4, 5, 6, 7, 8, 9, 10]"
            ]
          },
          "metadata": {},
          "execution_count": 80
        }
      ]
    },
    {
      "cell_type": "markdown",
      "source": [
        "##2) Enumerate"
      ],
      "metadata": {
        "id": "9AzH2nfs6uej"
      }
    },
    {
      "cell_type": "markdown",
      "source": [
        "## it gives back us an index count and object itself"
      ],
      "metadata": {
        "id": "qp-YM_BU89eM"
      }
    },
    {
      "cell_type": "code",
      "source": [
        "word = \"Batman\"\n",
        "\n",
        "for items in word:\n",
        "  print(items)"
      ],
      "metadata": {
        "colab": {
          "base_uri": "https://localhost:8080/"
        },
        "id": "dc9brDvg9zOm",
        "outputId": "dd430815-cee8-4c3e-e87b-c3d2da19927a"
      },
      "execution_count": 84,
      "outputs": [
        {
          "output_type": "stream",
          "name": "stdout",
          "text": [
            "B\n",
            "a\n",
            "t\n",
            "m\n",
            "a\n",
            "n\n"
          ]
        }
      ]
    },
    {
      "cell_type": "code",
      "source": [
        "for items in enumerate(word):\n",
        "  print(items)"
      ],
      "metadata": {
        "colab": {
          "base_uri": "https://localhost:8080/"
        },
        "id": "vvaDiaRw6jqo",
        "outputId": "5825743f-6de7-41c0-aaaa-01efd1b9ebfa"
      },
      "execution_count": 85,
      "outputs": [
        {
          "output_type": "stream",
          "name": "stdout",
          "text": [
            "(0, 'B')\n",
            "(1, 'a')\n",
            "(2, 't')\n",
            "(3, 'm')\n",
            "(4, 'a')\n",
            "(5, 'n')\n"
          ]
        }
      ]
    },
    {
      "cell_type": "code",
      "source": [
        "for a,b in enumerate(word):\n",
        "  print(a,b)"
      ],
      "metadata": {
        "colab": {
          "base_uri": "https://localhost:8080/"
        },
        "id": "yPKtQHF793Rf",
        "outputId": "57ec7d91-d323-4896-923b-b88cc0a87b81"
      },
      "execution_count": 86,
      "outputs": [
        {
          "output_type": "stream",
          "name": "stdout",
          "text": [
            "0 B\n",
            "1 a\n",
            "2 t\n",
            "3 m\n",
            "4 a\n",
            "5 n\n"
          ]
        }
      ]
    },
    {
      "cell_type": "code",
      "source": [
        "for a,b in enumerate(word):\n",
        "  print(a)\n",
        "  print(b)\n",
        "  print(\"\\n\")"
      ],
      "metadata": {
        "colab": {
          "base_uri": "https://localhost:8080/"
        },
        "id": "dYcBxvp1957d",
        "outputId": "e79093dc-02d7-4590-e865-b82d3d8d6476"
      },
      "execution_count": 87,
      "outputs": [
        {
          "output_type": "stream",
          "name": "stdout",
          "text": [
            "0\n",
            "B\n",
            "\n",
            "\n",
            "1\n",
            "a\n",
            "\n",
            "\n",
            "2\n",
            "t\n",
            "\n",
            "\n",
            "3\n",
            "m\n",
            "\n",
            "\n",
            "4\n",
            "a\n",
            "\n",
            "\n",
            "5\n",
            "n\n",
            "\n",
            "\n"
          ]
        }
      ]
    },
    {
      "cell_type": "code",
      "source": [
        "# extra resources for Python\n",
        "## https://www.youtube.com/watch?v=-MZiQaNI0QA\n",
        "\n",
        "## https://www.python-ds.com/python-3-escape-sequences"
      ],
      "metadata": {
        "id": "X2I54B8m98Mb"
      },
      "execution_count": 88,
      "outputs": []
    },
    {
      "cell_type": "markdown",
      "source": [
        "### 3) zip"
      ],
      "metadata": {
        "id": "RV75jjCP-GBE"
      }
    },
    {
      "cell_type": "code",
      "source": [
        "list1 = [1,2,3,4,5] # a,b,c,d,e\n",
        "list2 = [\"a\",\"b\",\"c\",\"d\",\"e\"]\n",
        "list3 = [\"a\", \"b\", \"d\"]"
      ],
      "metadata": {
        "id": "mr8OuNbL-EQt"
      },
      "execution_count": 89,
      "outputs": []
    },
    {
      "cell_type": "code",
      "source": [
        "list4 = zip(list1, list2)"
      ],
      "metadata": {
        "id": "aN_Lweue-J0I"
      },
      "execution_count": 90,
      "outputs": []
    },
    {
      "cell_type": "code",
      "source": [
        "print(list4)"
      ],
      "metadata": {
        "colab": {
          "base_uri": "https://localhost:8080/"
        },
        "id": "iGtTnKbM-MBh",
        "outputId": "de4a0415-4ec8-42e9-eeeb-aa427c3fac0b"
      },
      "execution_count": 91,
      "outputs": [
        {
          "output_type": "stream",
          "name": "stdout",
          "text": [
            "<zip object at 0x7f06024de820>\n"
          ]
        }
      ]
    },
    {
      "cell_type": "code",
      "source": [
        "for items in zip(list1, list2):\n",
        "  print(items)"
      ],
      "metadata": {
        "colab": {
          "base_uri": "https://localhost:8080/"
        },
        "id": "1xx8tegA-O5V",
        "outputId": "62214d14-10e4-4b67-ae05-b74de6554576"
      },
      "execution_count": 92,
      "outputs": [
        {
          "output_type": "stream",
          "name": "stdout",
          "text": [
            "(1, 'a')\n",
            "(2, 'b')\n",
            "(3, 'c')\n",
            "(4, 'd')\n",
            "(5, 'e')\n"
          ]
        }
      ]
    },
    {
      "cell_type": "code",
      "source": [
        "for a,b in zip (list1, list2):\n",
        "  print(a,b)"
      ],
      "metadata": {
        "colab": {
          "base_uri": "https://localhost:8080/"
        },
        "id": "jIpD0MF3-Wzh",
        "outputId": "d1ff2c55-0a0a-4007-a7a1-645fcba238da"
      },
      "execution_count": 93,
      "outputs": [
        {
          "output_type": "stream",
          "name": "stdout",
          "text": [
            "1 a\n",
            "2 b\n",
            "3 c\n",
            "4 d\n",
            "5 e\n"
          ]
        }
      ]
    },
    {
      "cell_type": "code",
      "source": [
        "for a,b,c in zip(list1, list2, list3):\n",
        "  print(b)"
      ],
      "metadata": {
        "colab": {
          "base_uri": "https://localhost:8080/"
        },
        "id": "FaCjgAVO-arO",
        "outputId": "91bcc9cd-bc1b-4a7b-b414-1dc6916a029a"
      },
      "execution_count": 95,
      "outputs": [
        {
          "output_type": "stream",
          "name": "stdout",
          "text": [
            "a\n",
            "b\n",
            "c\n"
          ]
        }
      ]
    }
  ]
}