{
  "nbformat": 4,
  "nbformat_minor": 0,
  "metadata": {
    "colab": {
      "name": "Python Homework 1.ipynb",
      "provenance": [],
      "collapsed_sections": [],
      "include_colab_link": true
    },
    "kernelspec": {
      "name": "python3",
      "display_name": "Python 3"
    },
    "language_info": {
      "name": "python"
    }
  },
  "cells": [
    {
      "cell_type": "markdown",
      "metadata": {
        "id": "view-in-github",
        "colab_type": "text"
      },
      "source": [
        "<a href=\"https://colab.research.google.com/github/JadenD5321/Summer-2022-Microcredential-/blob/main/Python_Homework_1.ipynb\" target=\"_parent\"><img src=\"https://colab.research.google.com/assets/colab-badge.svg\" alt=\"Open In Colab\"/></a>"
      ]
    },
    {
      "cell_type": "markdown",
      "source": [
        "# Answer all the questions!"
      ],
      "metadata": {
        "id": "FkJsXd8D06Rp"
      }
    },
    {
      "cell_type": "markdown",
      "source": [
        "##Write a Python program to get the volume of a sphere with radius 6"
      ],
      "metadata": {
        "id": "elOgKZR009ex"
      }
    },
    {
      "cell_type": "code",
      "source": [
        "# Write a Python program to get the volume of a sphere with radius 6\n",
        "# find the volume of a sphere first before exectuing the problem.\n",
        "\n",
        "import math\n",
        "\n",
        "def sphereVolume(r):\n",
        "    return (4 / 3) * math.pi * r ** 3\n",
        "\n",
        "print(sphereVolume(6))"
      ],
      "metadata": {
        "id": "YbhKO6Cs09av"
      },
      "execution_count": null,
      "outputs": []
    },
    {
      "cell_type": "markdown",
      "source": [
        "##Write a Python program to find whether a given number (accept from the user) is even or odd"
      ],
      "metadata": {
        "id": "OuX7aazu09X1"
      }
    },
    {
      "cell_type": "code",
      "source": [
        "num = int(input(\"Give me any number: \"))\n",
        "if(num % 2) == 0:  # if the number is divisible by 2 and there is no remainder.\n",
        "    print(\"The final outcome is even\")  # it will be an even value.\n",
        "else:\n",
        "    print(\"final outcome is odd\")"
      ],
      "metadata": {
        "id": "vcYhNNaU09Uz"
      },
      "execution_count": null,
      "outputs": []
    },
    {
      "cell_type": "markdown",
      "source": [
        "##Write a Python program to count the number 4 in a given list"
      ],
      "metadata": {
        "id": "NP5TZKqO09Rr"
      }
    },
    {
      "cell_type": "code",
      "source": [
        "# Write a code to count the number 4 in a given list\n",
        "# in my given list, make sure to put the number 4 on there so that it returns its count respectively\n",
        "\n",
        "def count_4(givenList):\n",
        "\n",
        "    print(\"Number List:\", givenList)\n",
        "    count = 0\n",
        "    for num in givenList:\n",
        "        if num == 4:\n",
        "            count += 1  # it keeps adding(incremennting) based on the number 4 stored in your list\n",
        "    return count\n",
        "\n",
        "\n",
        "my_list = [1, 2, 4, 16,63,4,90,4,7,4,6]\n",
        "\n",
        "# This returns count on my list based on the number of 4's stored into the list.\n",
        "print(count_4(my_list))\n",
        "\n"
      ],
      "metadata": {
        "id": "oWZ3vTfW09Oh"
      },
      "execution_count": null,
      "outputs": []
    },
    {
      "cell_type": "markdown",
      "source": [
        "##Write a Python program that will accept the base and height of a triangle and compute the area"
      ],
      "metadata": {
        "id": "IK0FvUoa1MJG"
      }
    },
    {
      "cell_type": "code",
      "source": [
        "# Formula for the traingle area= 1/2*b*h\n",
        "# find the input of a given base and height for the traingle on youtube]\n",
        "# learned some new concepts on youtube \n",
        "\n",
        "base = float(input(\"Please enter the given base\"))\n",
        "height=float(input(\"Please enter the given height\"))\n",
        "\n",
        "# now we have to find the total area of a given numbers\n",
        "area = (base*height)/2 \n",
        "print(\"The area of a given triangle is\", base, \"and\", height, \" = \", area)"
      ],
      "metadata": {
        "id": "G02dv4rh1MFs"
      },
      "execution_count": null,
      "outputs": []
    },
    {
      "cell_type": "markdown",
      "source": [
        "##Write a Python program to convert the distance (in feet) to inches, yards, and miles."
      ],
      "metadata": {
        "id": "sOkeycZk1L5-"
      }
    },
    {
      "cell_type": "code",
      "source": [
        "# Do something that prints (feet), inches, yards, and miles\n",
        "# write a Python program to convert the distance (in feet) to inches, yards, and miles.\n",
        "# used a  measurement conversion and youtube as a resource to find the distances \n",
        "# input the distances in feet to arrive into the final solution\n",
        "\n",
        "distance_conversion_in_feet = int(\n",
        "    input(\"Convert the following distances (in feet): \"))\n",
        "feet_to_inches = distance_conversion_in_feet * 12\n",
        "print(feet_to_inches)\n",
        "# 12\n",
        "feet_to_yards = distance_conversion_in_feet * 0.333333\n",
        "\n",
        "print(feet_to_yards)\n",
        "# 0.333333\n",
        "\n",
        "feet_to_miles = distance_conversion_in_feet * 0.000189394\n",
        "print(feet_to_miles)\n",
        "# 0.000189394\n"
      ],
      "metadata": {
        "id": "YtW-ZxqB1L2c"
      },
      "execution_count": null,
      "outputs": []
    }
  ]
}