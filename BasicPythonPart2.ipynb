{
  "nbformat": 4,
  "nbformat_minor": 0,
  "metadata": {
    "colab": {
      "name": "BasicPythonPart2.ipynb",
      "provenance": [],
      "collapsed_sections": [],
      "authorship_tag": "ABX9TyMNlk+jZIo3OleD7nXj0hoP",
      "include_colab_link": true
    },
    "kernelspec": {
      "name": "python3",
      "display_name": "Python 3"
    },
    "language_info": {
      "name": "python"
    }
  },
  "cells": [
    {
      "cell_type": "markdown",
      "metadata": {
        "id": "view-in-github",
        "colab_type": "text"
      },
      "source": [
        "<a href=\"https://colab.research.google.com/github/JadenD5321/Summer-2022-Microcredential-/blob/main/BasicPythonPart2.ipynb\" target=\"_parent\"><img src=\"https://colab.research.google.com/assets/colab-badge.svg\" alt=\"Open In Colab\"/></a>"
      ]
    },
    {
      "cell_type": "markdown",
      "source": [
        "1)## Intro to Python Part II\n",
        "# Data Structures"
      ],
      "metadata": {
        "id": "w4mkKlrSb8Ei"
      }
    },
    {
      "cell_type": "markdown",
      "source": [
        "2) ## Lists"
      ],
      "metadata": {
        "id": "BBw0UBalcFkA"
      }
    },
    {
      "cell_type": "code",
      "source": [
        "lst=[]"
      ],
      "metadata": {
        "id": "OcK6tXnYcOb7"
      },
      "execution_count": null,
      "outputs": []
    },
    {
      "cell_type": "code",
      "source": [
        "type(lst)"
      ],
      "metadata": {
        "colab": {
          "base_uri": "https://localhost:8080/"
        },
        "id": "YWC9d7rycRYh",
        "outputId": "e336715c-d689-4a59-cd3b-a458ca36fd66"
      },
      "execution_count": null,
      "outputs": [
        {
          "output_type": "execute_result",
          "data": {
            "text/plain": [
              "list"
            ]
          },
          "metadata": {},
          "execution_count": 2
        }
      ]
    },
    {
      "cell_type": "code",
      "source": [
        "my_list= [\"Hello\", 100, 23.47]"
      ],
      "metadata": {
        "id": "dbmojaXZcUZH"
      },
      "execution_count": null,
      "outputs": []
    },
    {
      "cell_type": "code",
      "source": [
        "print(my_list)"
      ],
      "metadata": {
        "colab": {
          "base_uri": "https://localhost:8080/"
        },
        "id": "BLfnt2fqcjwS",
        "outputId": "6c03719f-e90b-434e-bfce-0eabe6a77a16"
      },
      "execution_count": null,
      "outputs": [
        {
          "output_type": "stream",
          "name": "stdout",
          "text": [
            "['Hello', 100, 23.47]\n"
          ]
        }
      ]
    },
    {
      "cell_type": "code",
      "source": [
        "type(my_list)"
      ],
      "metadata": {
        "colab": {
          "base_uri": "https://localhost:8080/"
        },
        "id": "bvopuNKacm9_",
        "outputId": "b4e0fb7f-c8dd-49c2-cf76-3251686eca27"
      },
      "execution_count": null,
      "outputs": [
        {
          "output_type": "execute_result",
          "data": {
            "text/plain": [
              "list"
            ]
          },
          "metadata": {},
          "execution_count": 9
        }
      ]
    },
    {
      "cell_type": "code",
      "source": [
        "second_list=[\"one\", \"two\", \"three\"]"
      ],
      "metadata": {
        "id": "6b6mH20kcqWd"
      },
      "execution_count": null,
      "outputs": []
    },
    {
      "cell_type": "code",
      "source": [
        "type(second_list)"
      ],
      "metadata": {
        "colab": {
          "base_uri": "https://localhost:8080/"
        },
        "id": "jiwih7WYczNH",
        "outputId": "5ee97bdd-5c71-4bfe-fee2-b6648989b848"
      },
      "execution_count": null,
      "outputs": [
        {
          "output_type": "execute_result",
          "data": {
            "text/plain": [
              "list"
            ]
          },
          "metadata": {},
          "execution_count": 12
        }
      ]
    },
    {
      "cell_type": "code",
      "source": [
        "print(second_list)"
      ],
      "metadata": {
        "colab": {
          "base_uri": "https://localhost:8080/"
        },
        "id": "KvwgbJqzc10C",
        "outputId": "bd65a5de-7ee1-424b-8610-440d893ad472"
      },
      "execution_count": null,
      "outputs": [
        {
          "output_type": "stream",
          "name": "stdout",
          "text": [
            "['one', 'two', 'three']\n"
          ]
        }
      ]
    },
    {
      "cell_type": "markdown",
      "source": [
        "##3)concatenate"
      ],
      "metadata": {
        "id": "wbqHCXG7c6os"
      }
    },
    {
      "cell_type": "code",
      "source": [
        "new_list=my_list+ second_list"
      ],
      "metadata": {
        "id": "uHQl0WWYdAqg"
      },
      "execution_count": null,
      "outputs": []
    },
    {
      "cell_type": "code",
      "source": [
        "type(new_list)"
      ],
      "metadata": {
        "colab": {
          "base_uri": "https://localhost:8080/"
        },
        "id": "GWi_zfyFdH_P",
        "outputId": "9db14d46-66e2-4722-824b-b2abc3f0e492"
      },
      "execution_count": null,
      "outputs": [
        {
          "output_type": "execute_result",
          "data": {
            "text/plain": [
              "list"
            ]
          },
          "metadata": {},
          "execution_count": 15
        }
      ]
    },
    {
      "cell_type": "code",
      "source": [
        "print(new_list)"
      ],
      "metadata": {
        "colab": {
          "base_uri": "https://localhost:8080/"
        },
        "id": "MxyPw2MldMCt",
        "outputId": "1527a04b-585b-4b59-bbf5-f3c410ccffd8"
      },
      "execution_count": null,
      "outputs": [
        {
          "output_type": "stream",
          "name": "stdout",
          "text": [
            "['Hello', 100, 23.47, 'one', 'two', 'three']\n"
          ]
        }
      ]
    },
    {
      "cell_type": "markdown",
      "source": [
        "# 4) Indexing in a list"
      ],
      "metadata": {
        "id": "ZxwKD74MdWbq"
      }
    },
    {
      "cell_type": "code",
      "source": [
        "students=[\"Robert\", \"Lisa\", \"James\", \"Scarlett\"]"
      ],
      "metadata": {
        "id": "6U660TZwffKt"
      },
      "execution_count": 23,
      "outputs": []
    },
    {
      "cell_type": "code",
      "source": [
        "students\n",
        "['Robert','Chris','Lisa', 'James', 'Scarlett' ]"
      ],
      "metadata": {
        "colab": {
          "base_uri": "https://localhost:8080/"
        },
        "id": "lkTV7r8hfpM5",
        "outputId": "ebaaea3c-a2a1-46ca-a7d4-ce86449dac34"
      },
      "execution_count": 25,
      "outputs": [
        {
          "output_type": "execute_result",
          "data": {
            "text/plain": [
              "['Robert', 'Chris', 'Lisa', 'James', 'Scarlett']"
            ]
          },
          "metadata": {},
          "execution_count": 25
        }
      ]
    },
    {
      "cell_type": "code",
      "source": [
        "students[0]"
      ],
      "metadata": {
        "colab": {
          "base_uri": "https://localhost:8080/"
        },
        "id": "SFDMzw3of6Ag",
        "outputId": "90df1591-9cfb-49ca-8a4e-fd0ec762de11"
      },
      "execution_count": 43,
      "outputs": [
        {
          "output_type": "execute_result",
          "data": {
            "text/plain": [
              "6"
            ]
          },
          "metadata": {},
          "execution_count": 43
        }
      ]
    },
    {
      "cell_type": "code",
      "source": [
        "string1=\"this is a string\""
      ],
      "metadata": {
        "id": "LdcN8yLzgR-y"
      },
      "execution_count": 44,
      "outputs": []
    },
    {
      "cell_type": "code",
      "source": [
        "string1"
      ],
      "metadata": {
        "colab": {
          "base_uri": "https://localhost:8080/",
          "height": 37
        },
        "id": "-aJgZVCFgVqc",
        "outputId": "245cfc58-47a1-4737-cf4d-cc5bc21ff14e"
      },
      "execution_count": 45,
      "outputs": [
        {
          "output_type": "execute_result",
          "data": {
            "text/plain": [
              "'this is a string'"
            ],
            "application/vnd.google.colaboratory.intrinsic+json": {
              "type": "string"
            }
          },
          "metadata": {},
          "execution_count": 45
        }
      ]
    },
    {
      "cell_type": "code",
      "source": [
        "string1[2]"
      ],
      "metadata": {
        "colab": {
          "base_uri": "https://localhost:8080/",
          "height": 37
        },
        "id": "sjaWxWwRgeF_",
        "outputId": "ed33b975-8d11-4989-9446-48007a5c2dca"
      },
      "execution_count": 47,
      "outputs": [
        {
          "output_type": "execute_result",
          "data": {
            "text/plain": [
              "'i'"
            ],
            "application/vnd.google.colaboratory.intrinsic+json": {
              "type": "string"
            }
          },
          "metadata": {},
          "execution_count": 47
        }
      ]
    },
    {
      "cell_type": "markdown",
      "source": [
        "# 5)Ending the lists"
      ],
      "metadata": {
        "id": "JDZxp3LigoEm"
      }
    },
    {
      "cell_type": "code",
      "source": [
        "students\n",
        "['Robert','Chris','lisa','James',' Scarlett' ]"
      ],
      "metadata": {
        "colab": {
          "base_uri": "https://localhost:8080/"
        },
        "id": "0FLpd1FbgsdC",
        "outputId": "3dd9a121-693e-4cf1-f933-f453388804d9"
      },
      "execution_count": 48,
      "outputs": [
        {
          "output_type": "execute_result",
          "data": {
            "text/plain": [
              "['Robert', 'Chris', 'lisa', 'James', ' Scarlett']"
            ]
          },
          "metadata": {},
          "execution_count": 48
        }
      ]
    },
    {
      "cell_type": "code",
      "source": [
        "#Replace values\n",
        "students[0]=\"Sam\""
      ],
      "metadata": {
        "id": "h5icUp3OlXnk"
      },
      "execution_count": 50,
      "outputs": []
    },
    {
      "cell_type": "code",
      "source": [
        "students\n",
        "\n",
        "['Sam', 'Chris', 'Katarina', 'Scarlett']"
      ],
      "metadata": {
        "colab": {
          "base_uri": "https://localhost:8080/"
        },
        "id": "a5YYC7YmmZsl",
        "outputId": "8c8768bb-f429-4ee5-976f-ec7d63d78d0f"
      },
      "execution_count": 51,
      "outputs": [
        {
          "output_type": "execute_result",
          "data": {
            "text/plain": [
              "['Sam', 'Chris', 'Katarina', 'Scarlett']"
            ]
          },
          "metadata": {},
          "execution_count": 51
        }
      ]
    },
    {
      "cell_type": "code",
      "source": [
        "#Add values(Append basically means you keep incrementing other values stored within an object)\n",
        "students.append(\"Paul\")\n",
        "students\n"
      ],
      "metadata": {
        "colab": {
          "base_uri": "https://localhost:8080/"
        },
        "id": "1gU12lj0nkX1",
        "outputId": "a18669e5-22c5-47d3-f51f-ae0dc69cc762"
      },
      "execution_count": 56,
      "outputs": [
        {
          "output_type": "execute_result",
          "data": {
            "text/plain": [
              "['Sam', 'Paul', 'Paul', 'Paul', 'Paul', 'Paul']"
            ]
          },
          "metadata": {},
          "execution_count": 56
        }
      ]
    },
    {
      "cell_type": "code",
      "source": [
        "# Remove values\n",
        "students.remove(\"Scarlett\")\n",
        "students"
      ],
      "metadata": {
        "colab": {
          "base_uri": "https://localhost:8080/",
          "height": 215
        },
        "id": "W_GBkN5Bnvrf",
        "outputId": "1f971129-84ad-4c23-c21f-9355d0799557"
      },
      "execution_count": 61,
      "outputs": [
        {
          "output_type": "error",
          "ename": "ValueError",
          "evalue": "ignored",
          "traceback": [
            "\u001b[0;31m---------------------------------------------------------------------------\u001b[0m",
            "\u001b[0;31mValueError\u001b[0m                                Traceback (most recent call last)",
            "\u001b[0;32m<ipython-input-61-48c185efce70>\u001b[0m in \u001b[0;36m<module>\u001b[0;34m()\u001b[0m\n\u001b[1;32m      1\u001b[0m \u001b[0;31m# Remove values\u001b[0m\u001b[0;34m\u001b[0m\u001b[0;34m\u001b[0m\u001b[0;34m\u001b[0m\u001b[0m\n\u001b[0;32m----> 2\u001b[0;31m \u001b[0mstudents\u001b[0m\u001b[0;34m.\u001b[0m\u001b[0mremove\u001b[0m\u001b[0;34m(\u001b[0m\u001b[0;34m\"Scarlett\"\u001b[0m\u001b[0;34m)\u001b[0m\u001b[0;34m\u001b[0m\u001b[0;34m\u001b[0m\u001b[0m\n\u001b[0m\u001b[1;32m      3\u001b[0m \u001b[0mstudents\u001b[0m\u001b[0;34m\u001b[0m\u001b[0;34m\u001b[0m\u001b[0m\n\u001b[1;32m      4\u001b[0m \u001b[0;34m\u001b[0m\u001b[0m\n",
            "\u001b[0;31mValueError\u001b[0m: list.remove(x): x not in list"
          ]
        }
      ]
    },
    {
      "cell_type": "code",
      "source": [
        "list1=[\"One\",\" Two\", \" Three\", \" Four\",\"Five\"]"
      ],
      "metadata": {
        "id": "a2I5l28mpR6h"
      },
      "execution_count": 85,
      "outputs": []
    },
    {
      "cell_type": "code",
      "source": [
        "list1.pop(0)"
      ],
      "metadata": {
        "colab": {
          "base_uri": "https://localhost:8080/",
          "height": 37
        },
        "id": "UiCsckvXpdjD",
        "outputId": "d71eb9de-228a-47a1-ba31-737c62119ac0"
      },
      "execution_count": 100,
      "outputs": [
        {
          "output_type": "execute_result",
          "data": {
            "text/plain": [
              "' Four'"
            ],
            "application/vnd.google.colaboratory.intrinsic+json": {
              "type": "string"
            }
          },
          "metadata": {},
          "execution_count": 100
        }
      ]
    },
    {
      "cell_type": "code",
      "source": [
        "list\n",
        "['one', 'two', 'three']"
      ],
      "metadata": {
        "colab": {
          "base_uri": "https://localhost:8080/"
        },
        "id": "KhxbcScpp0i4",
        "outputId": "dacbc3b6-b45a-4de5-885c-fb301708f131"
      },
      "execution_count": 76,
      "outputs": [
        {
          "output_type": "execute_result",
          "data": {
            "text/plain": [
              "['one', 'two', 'three']"
            ]
          },
          "metadata": {},
          "execution_count": 76
        }
      ]
    },
    {
      "cell_type": "markdown",
      "source": [
        "#6)Add list into list"
      ],
      "metadata": {
        "id": "w6bIoSG5qACK"
      }
    },
    {
      "cell_type": "code",
      "source": [
        "color=[\"Red\", \"Green\",\"Blue\", \" Violet\"]"
      ],
      "metadata": {
        "id": "VNIPxD8rqDZB"
      },
      "execution_count": 79,
      "outputs": []
    },
    {
      "cell_type": "code",
      "source": [
        "color"
      ],
      "metadata": {
        "colab": {
          "base_uri": "https://localhost:8080/"
        },
        "id": "TAHox-vKqYQW",
        "outputId": "0dca1aaa-ba79-481d-be93-b5bf9b5a9a29"
      },
      "execution_count": 80,
      "outputs": [
        {
          "output_type": "execute_result",
          "data": {
            "text/plain": [
              "['Red', 'Green', 'Blue', ' Violet']"
            ]
          },
          "metadata": {},
          "execution_count": 80
        }
      ]
    },
    {
      "cell_type": "code",
      "source": [
        "age=[21,23,25,27]"
      ],
      "metadata": {
        "id": "IbKZJYJWq7Fd"
      },
      "execution_count": 102,
      "outputs": []
    },
    {
      "cell_type": "code",
      "source": [
        "print(age)"
      ],
      "metadata": {
        "colab": {
          "base_uri": "https://localhost:8080/"
        },
        "id": "bBV2DmA-rDpS",
        "outputId": "f8a1fbfe-69fe-4e48-aef6-3ca366354b7f"
      },
      "execution_count": 103,
      "outputs": [
        {
          "output_type": "stream",
          "name": "stdout",
          "text": [
            "[21, 23, 25, 27]\n"
          ]
        }
      ]
    },
    {
      "cell_type": "code",
      "source": [
        "color.extend(age)"
      ],
      "metadata": {
        "id": "yy4mfH1DrG-o"
      },
      "execution_count": 105,
      "outputs": []
    },
    {
      "cell_type": "code",
      "source": [
        "color"
      ],
      "metadata": {
        "colab": {
          "base_uri": "https://localhost:8080/"
        },
        "id": "s7y8s6F4ry7t",
        "outputId": "11bd8977-4ce0-4d80-bd75-bdff4a977586"
      },
      "execution_count": 106,
      "outputs": [
        {
          "output_type": "execute_result",
          "data": {
            "text/plain": [
              "['Red', 'Green', 'Blue', ' Violet', 21, 23, 25, 27, 21, 23, 25, 27]"
            ]
          },
          "metadata": {},
          "execution_count": 106
        }
      ]
    },
    {
      "cell_type": "markdown",
      "source": [
        "#extend in python means to add specific list of elements incorporated to the table"
      ],
      "metadata": {
        "id": "lTTuGKA3rLXV"
      }
    },
    {
      "cell_type": "markdown",
      "source": [
        "# 7) Python built in functions with the lists"
      ],
      "metadata": {
        "id": "zjTq4SQjsHVJ"
      }
    },
    {
      "cell_type": "markdown",
      "source": [
        "#sorted lists means to place numbers or iterations of an object in the order numerically or alphabetically"
      ],
      "metadata": {
        "id": "iaUPQjxAshCu"
      }
    },
    {
      "cell_type": "code",
      "source": [
        "even=[2,4,6,8]\n",
        "odd=[1,3,5,7]\n"
      ],
      "metadata": {
        "id": "ui5PFOHesPj6"
      },
      "execution_count": 107,
      "outputs": []
    },
    {
      "cell_type": "code",
      "source": [
        "print(numbers)"
      ],
      "metadata": {
        "colab": {
          "base_uri": "https://localhost:8080/"
        },
        "id": "qqsHnK-ksbNj",
        "outputId": "7301d8ec-5bbe-4bc9-d387-989de677d7be"
      },
      "execution_count": 109,
      "outputs": [
        {
          "output_type": "stream",
          "name": "stdout",
          "text": [
            "[2, 4, 6, 8, 1, 3, 5, 7]\n"
          ]
        }
      ]
    },
    {
      "cell_type": "code",
      "source": [
        "numbers=even+odd"
      ],
      "metadata": {
        "id": "3XUz-s38sXKQ"
      },
      "execution_count": 108,
      "outputs": []
    },
    {
      "cell_type": "code",
      "source": [
        "print(sorted(numbers))"
      ],
      "metadata": {
        "colab": {
          "base_uri": "https://localhost:8080/"
        },
        "id": "q12nLjrisczh",
        "outputId": "14e74b35-9eea-42f0-9f1e-b597fd544031"
      },
      "execution_count": 110,
      "outputs": [
        {
          "output_type": "stream",
          "name": "stdout",
          "text": [
            "[1, 2, 3, 4, 5, 6, 7, 8]\n"
          ]
        }
      ]
    },
    {
      "cell_type": "code",
      "source": [
        "len(numbers) # totally numbers stored within a list"
      ],
      "metadata": {
        "colab": {
          "base_uri": "https://localhost:8080/"
        },
        "id": "3wG-KAJ_s2-d",
        "outputId": "ea5ea8da-891a-40ce-b25e-5462ebd6ed42"
      },
      "execution_count": 111,
      "outputs": [
        {
          "output_type": "execute_result",
          "data": {
            "text/plain": [
              "8"
            ]
          },
          "metadata": {},
          "execution_count": 111
        }
      ]
    },
    {
      "cell_type": "code",
      "source": [
        "max(numbers) # maximum amount of numbers stored within a list"
      ],
      "metadata": {
        "colab": {
          "base_uri": "https://localhost:8080/"
        },
        "id": "QKX6gQCLs9E9",
        "outputId": "42f3846b-f8de-42f4-dda4-ae6085cc1030"
      },
      "execution_count": 112,
      "outputs": [
        {
          "output_type": "execute_result",
          "data": {
            "text/plain": [
              "8"
            ]
          },
          "metadata": {},
          "execution_count": 112
        }
      ]
    },
    {
      "cell_type": "code",
      "source": [
        "#key ideas from todays lesson \n",
        "#1) Conecentation \n",
        "#2) Editing in lists\n",
        "#3) Python in build-lists\n",
        "#4) indexing in lists \n",
        "#5) Add lists into lists"
      ],
      "metadata": {
        "id": "RFaFC0V9vuID"
      },
      "execution_count": null,
      "outputs": []
    }
  ]
}