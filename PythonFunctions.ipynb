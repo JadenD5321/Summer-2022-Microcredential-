{
  "nbformat": 4,
  "nbformat_minor": 0,
  "metadata": {
    "colab": {
      "name": "PythonFunctions.ipynb",
      "provenance": [],
      "authorship_tag": "ABX9TyOONrRjjLlwdcY0sNcgVHKG",
      "include_colab_link": true
    },
    "kernelspec": {
      "name": "python3",
      "display_name": "Python 3"
    },
    "language_info": {
      "name": "python"
    }
  },
  "cells": [
    {
      "cell_type": "markdown",
      "metadata": {
        "id": "view-in-github",
        "colab_type": "text"
      },
      "source": [
        "<a href=\"https://colab.research.google.com/github/JadenD5321/Summer-2022-Microcredential-/blob/main/PythonFunctions.ipynb\" target=\"_parent\"><img src=\"https://colab.research.google.com/assets/colab-badge.svg\" alt=\"Open In Colab\"/></a>"
      ]
    },
    {
      "cell_type": "code",
      "execution_count": null,
      "metadata": {
        "id": "1y_glADkI-3u"
      },
      "outputs": [],
      "source": [
        "# Intro to python IV\n",
        "## Function!"
      ]
    },
    {
      "cell_type": "markdown",
      "source": [
        "### 1) How do we define a function?"
      ],
      "metadata": {
        "id": "S2uWhe2SNmLR"
      }
    },
    {
      "cell_type": "code",
      "source": [
        "\"\"\"\n",
        "'def' name_of_function():\n",
        "  whatever the function is supposed to do. \n",
        "\"\"\""
      ],
      "metadata": {
        "colab": {
          "base_uri": "https://localhost:8080/",
          "height": 37
        },
        "id": "IQfbzyY_Nm-k",
        "outputId": "37e413f2-8798-4322-fd0e-74b0956190ba"
      },
      "execution_count": null,
      "outputs": [
        {
          "output_type": "execute_result",
          "data": {
            "text/plain": [
              "\"\\n'def' name_of_function():\\n  whatever the function is supposed to do. \\n\""
            ],
            "application/vnd.google.colaboratory.intrinsic+json": {
              "type": "string"
            }
          },
          "metadata": {},
          "execution_count": 2
        }
      ]
    },
    {
      "cell_type": "code",
      "source": [
        "def my_function():\n",
        "  print('Hi there')"
      ],
      "metadata": {
        "id": "YxaWSejtN4US"
      },
      "execution_count": null,
      "outputs": []
    },
    {
      "cell_type": "code",
      "source": [
        "type(my_function)"
      ],
      "metadata": {
        "colab": {
          "base_uri": "https://localhost:8080/"
        },
        "id": "Tm1Je1wuN6ok",
        "outputId": "3114a826-30b7-487f-dc78-84943ba2162e"
      },
      "execution_count": null,
      "outputs": [
        {
          "output_type": "execute_result",
          "data": {
            "text/plain": [
              "function"
            ]
          },
          "metadata": {},
          "execution_count": 4
        }
      ]
    },
    {
      "cell_type": "code",
      "source": [
        "my_function"
      ],
      "metadata": {
        "colab": {
          "base_uri": "https://localhost:8080/"
        },
        "id": "Cwm75p83OOKQ",
        "outputId": "9a2d082a-7763-4b62-ee1a-2e6d6028c08e"
      },
      "execution_count": null,
      "outputs": [
        {
          "output_type": "execute_result",
          "data": {
            "text/plain": [
              "<function __main__.my_function>"
            ]
          },
          "metadata": {},
          "execution_count": 5
        }
      ]
    },
    {
      "cell_type": "code",
      "source": [
        "def my_function():\n",
        "  \"\"\"\n",
        "  Created by: Dodoo-Tawiah\n",
        "  Input: None\n",
        "  Output: Hello\n",
        "  \"\"\"\n",
        "  print(\"Hello\")"
      ],
      "metadata": {
        "id": "AtN9IilzOVwO"
      },
      "execution_count": null,
      "outputs": []
    },
    {
      "cell_type": "code",
      "source": [
        "my_function()"
      ],
      "metadata": {
        "colab": {
          "base_uri": "https://localhost:8080/"
        },
        "id": "67kDCXhIOQWu",
        "outputId": "78f2184d-4b1b-4f55-e3d7-0b44e268279b"
      },
      "execution_count": null,
      "outputs": [
        {
          "output_type": "stream",
          "name": "stdout",
          "text": [
            "Hi there\n"
          ]
        }
      ]
    },
    {
      "cell_type": "code",
      "source": [
        "help(my_function)"
      ],
      "metadata": {
        "colab": {
          "base_uri": "https://localhost:8080/"
        },
        "id": "IBwDqSacOTMr",
        "outputId": "3cb8fb48-e0cb-4a98-8e24-bcaad48ca089"
      },
      "execution_count": null,
      "outputs": [
        {
          "output_type": "stream",
          "name": "stdout",
          "text": [
            "Help on function my_function in module __main__:\n",
            "\n",
            "my_function()\n",
            "\n"
          ]
        }
      ]
    },
    {
      "cell_type": "code",
      "source": [
        "my_function()"
      ],
      "metadata": {
        "colab": {
          "base_uri": "https://localhost:8080/"
        },
        "id": "7raAD-bTOYY7",
        "outputId": "eb8232f4-c0e6-4ef5-8484-e803b9068a54"
      },
      "execution_count": null,
      "outputs": [
        {
          "output_type": "stream",
          "name": "stdout",
          "text": [
            "Hello\n"
          ]
        }
      ]
    },
    {
      "cell_type": "code",
      "source": [
        "def greetings(name):\n",
        "  \"\"\"\n",
        "  Created by: Dodoo-Tawiah\n",
        "  Input: None\n",
        "  Output: Hello to the user\n",
        "  \"\"\"\n",
        "  print(\"Good Afternoon \" + name)"
      ],
      "metadata": {
        "id": "vWQESWtfO2Yi"
      },
      "execution_count": null,
      "outputs": []
    },
    {
      "cell_type": "code",
      "source": [
        "greetings(' John')"
      ],
      "metadata": {
        "colab": {
          "base_uri": "https://localhost:8080/"
        },
        "id": "aBzo4046O8HL",
        "outputId": "aee4cf2a-377a-4e66-c4f2-82d1b28ed58a"
      },
      "execution_count": null,
      "outputs": [
        {
          "output_type": "stream",
          "name": "stdout",
          "text": [
            "Good Afternoon  John\n"
          ]
        }
      ]
    },
    {
      "cell_type": "code",
      "source": [
        "def greetings2(name = 'John'):\n",
        "  \"\"\"\n",
        "  Created by:Dodoo-Tawiah\n",
        "  Input: None\n",
        "  Output: Hello to the user\n",
        "  \"\"\"\n",
        "  print(\"Good Afternoon \" + name)"
      ],
      "metadata": {
        "id": "hAcbTVb3Oh0Q"
      },
      "execution_count": null,
      "outputs": []
    },
    {
      "cell_type": "code",
      "source": [
        "greetings2('Tom')"
      ],
      "metadata": {
        "colab": {
          "base_uri": "https://localhost:8080/"
        },
        "id": "vxYlCGHePEKS",
        "outputId": "667f6574-56a5-4959-ff58-f5e1241e47c7"
      },
      "execution_count": null,
      "outputs": [
        {
          "output_type": "stream",
          "name": "stdout",
          "text": [
            "Good Afternoon Tom\n"
          ]
        }
      ]
    },
    {
      "cell_type": "code",
      "source": [
        "name = input(\"Enter your name: \")\n",
        "greetings2(name)"
      ],
      "metadata": {
        "id": "bzc3Eyj2PLdM",
        "colab": {
          "base_uri": "https://localhost:8080/"
        },
        "outputId": "4f2d42ef-4129-4f75-82e9-9a577558da0b"
      },
      "execution_count": 21,
      "outputs": [
        {
          "output_type": "stream",
          "name": "stdout",
          "text": [
            "Enter your name: jaden\n",
            "Good Afternoon jaden\n"
          ]
        }
      ]
    },
    {
      "cell_type": "code",
      "source": [
        "def add(n1, n2):\n",
        "  return n1 + n2"
      ],
      "metadata": {
        "id": "EQCt_nSGPa6u"
      },
      "execution_count": 22,
      "outputs": []
    },
    {
      "cell_type": "code",
      "source": [
        "add(34, 89)"
      ],
      "metadata": {
        "colab": {
          "base_uri": "https://localhost:8080/"
        },
        "id": "40Owfd6fPW3B",
        "outputId": "e756a454-5311-401d-f810-37197392006a"
      },
      "execution_count": 23,
      "outputs": [
        {
          "output_type": "execute_result",
          "data": {
            "text/plain": [
              "123"
            ]
          },
          "metadata": {},
          "execution_count": 23
        }
      ]
    },
    {
      "cell_type": "code",
      "source": [
        "def even_numbers(n):\n",
        "  \"\"\"\n",
        "  Description: This function prints out even numbers from a given list of numbers. \n",
        "  Created by: Dodoo-Tawiah\n",
        "  Input: list of numbers\n",
        "  Output: even numbers from given list\n",
        "  \"\"\"\n",
        "  num = []\n",
        "  for i in n:\n",
        "    if i % 2 == 0:\n",
        "      num.append(i) # this means to add different values\n",
        "  return(num)\n"
      ],
      "metadata": {
        "id": "oDKjsFm7PgVy"
      },
      "execution_count": 24,
      "outputs": []
    },
    {
      "cell_type": "code",
      "source": [
        "help(even_numbers)"
      ],
      "metadata": {
        "colab": {
          "base_uri": "https://localhost:8080/"
        },
        "id": "_1l_A_ZDP90V",
        "outputId": "6366a9b8-5ac0-4806-928b-1b6c4e94d14a"
      },
      "execution_count": 25,
      "outputs": [
        {
          "output_type": "stream",
          "name": "stdout",
          "text": [
            "Help on function even_numbers in module __main__:\n",
            "\n",
            "even_numbers(n)\n",
            "    Description: This function prints out even numbers from a given list of numbers. \n",
            "    Created by: Dodoo-Tawiah\n",
            "    Input: list of numbers\n",
            "    Output: even numbers from given list\n",
            "\n"
          ]
        }
      ]
    },
    {
      "cell_type": "code",
      "source": [
        "even_numbers([24,56,32])"
      ],
      "metadata": {
        "colab": {
          "base_uri": "https://localhost:8080/"
        },
        "id": "7Ip3rY-sQQ06",
        "outputId": "779cc93f-6998-421e-b781-a1239cd11ebb"
      },
      "execution_count": 26,
      "outputs": [
        {
          "output_type": "execute_result",
          "data": {
            "text/plain": [
              "[24, 56, 32]"
            ]
          },
          "metadata": {},
          "execution_count": 26
        }
      ]
    },
    {
      "cell_type": "code",
      "source": [
        "def odd_numbers(n):\n",
        "  \"\"\"\n",
        "  Description: This function prints out odd numbers from a given list of numbers. \n",
        "  Created by: Dodoo-Tawiah \n",
        "  Input: list of numbers\n",
        "  Output: odd numbers from given list\n",
        "  \"\"\"\n",
        "  num = []\n",
        "  for i in n:\n",
        "    if i % 2 != 0:\n",
        "      num.append(i)\n",
        "  return(num)"
      ],
      "metadata": {
        "id": "08lRyekpQTtR"
      },
      "execution_count": 27,
      "outputs": []
    },
    {
      "cell_type": "code",
      "source": [
        "help (odd_numbers)"
      ],
      "metadata": {
        "colab": {
          "base_uri": "https://localhost:8080/"
        },
        "id": "rjRgVh1VQYO5",
        "outputId": "83d01402-71a3-42ad-8e76-56a9ccedc6e8"
      },
      "execution_count": 33,
      "outputs": [
        {
          "output_type": "stream",
          "name": "stdout",
          "text": [
            "Help on function odd_numbers in module __main__:\n",
            "\n",
            "odd_numbers(n)\n",
            "    Description: This function prints out odd numbers from a given list of numbers. \n",
            "    Created by: Dodoo-Tawiah \n",
            "    Input: list of numbers\n",
            "    Output: odd numbers from given list\n",
            "\n"
          ]
        }
      ]
    },
    {
      "cell_type": "code",
      "source": [
        "odd_numbers([15, 35, 56, 17, 22, 10, 2345, 19, 36, 73])"
      ],
      "metadata": {
        "colab": {
          "base_uri": "https://localhost:8080/"
        },
        "id": "25nv0vy3Qb3c",
        "outputId": "f0d4a37a-7d74-446a-e18a-d3ccdb380df3"
      },
      "execution_count": 34,
      "outputs": [
        {
          "output_type": "execute_result",
          "data": {
            "text/plain": [
              "[15, 35, 17, 2345, 19, 73]"
            ]
          },
          "metadata": {},
          "execution_count": 34
        }
      ]
    }
  ]
}